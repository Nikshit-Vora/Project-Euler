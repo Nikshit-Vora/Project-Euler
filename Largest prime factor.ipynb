{
 "cells": [
  {
   "cell_type": "markdown",
   "metadata": {},
   "source": [
    "# The prime factors of 13195 are 5, 7, 13 and 29. What is the largest prime factor of the number 600851475143 ?"
   ]
  },
  {
   "cell_type": "code",
   "execution_count": 1,
   "metadata": {},
   "outputs": [
    {
     "name": "stdout",
     "output_type": "stream",
     "text": [
      "list of all factor [1, 5, 7, 13, 29, 35, 65, 91, 145, 203, 377, 455, 1015, 1885, 2639, 13195]\n",
      "list of prime factor [5, 7, 13, 29]\n",
      "max is 29\n"
     ]
    }
   ],
   "source": [
    "number=13195\n",
    "\n",
    "factor=[]\n",
    "\n",
    "for i in range(1,number+1):\n",
    "    if number%i==0:\n",
    "        factor.append(i)\n",
    "print(f'list of all factor {factor}')\n",
    "\n",
    "prime_factor=[]\n",
    "for i in factor:\n",
    "    if i!=1:\n",
    "        for j in range(2,i):\n",
    "            if i%j==0:\n",
    "                break\n",
    "        else:\n",
    "            prime_factor.append(i)\n",
    "print(f'list of prime factor {prime_factor}')\n",
    "print(f'max is {max(prime_factor)}')"
   ]
  },
  {
   "cell_type": "code",
   "execution_count": null,
   "metadata": {},
   "outputs": [],
   "source": []
  }
 ],
 "metadata": {
  "kernelspec": {
   "display_name": "Python 3",
   "language": "python",
   "name": "python3"
  },
  "language_info": {
   "codemirror_mode": {
    "name": "ipython",
    "version": 3
   },
   "file_extension": ".py",
   "mimetype": "text/x-python",
   "name": "python",
   "nbconvert_exporter": "python",
   "pygments_lexer": "ipython3",
   "version": "3.8.5"
  }
 },
 "nbformat": 4,
 "nbformat_minor": 4
}
