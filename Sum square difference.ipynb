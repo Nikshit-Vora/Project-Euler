{
 "cells": [
  {
   "cell_type": "markdown",
   "metadata": {},
   "source": [
    "'''\n",
    "The sum of the squares of the first ten natural numbers is, 385\n",
    "\n",
    "The square of the sum of the first ten natural numbers is, 3025\n",
    "\n",
    "Hence the difference between the sum of the squares of the first ten natural numbers and the square of the sum is .\n",
    "\n",
    "Find the difference between the sum of the squares of the first one hundred natural numbers and the square of the sum.\n",
    "'''"
   ]
  },
  {
   "cell_type": "code",
   "execution_count": 2,
   "metadata": {},
   "outputs": [
    {
     "name": "stdout",
     "output_type": "stream",
     "text": [
      "2640\n"
     ]
    }
   ],
   "source": [
    "n=10\n",
    "\n",
    "l1=[]\n",
    "l2=[]\n",
    "\n",
    "for i in range(1,n+1):\n",
    "    k=i**2\n",
    "    l1.append(k)\n",
    "    l2.append(i)\n",
    "\n",
    "square_sum=sum(l1)\n",
    "sum_square=(sum(l2))**2\n",
    "\n",
    "d=sum_square - square_sum\n",
    "print(d)"
   ]
  },
  {
   "cell_type": "code",
   "execution_count": 3,
   "metadata": {},
   "outputs": [
    {
     "name": "stdout",
     "output_type": "stream",
     "text": [
      "25164150\n"
     ]
    }
   ],
   "source": [
    "n=100\n",
    "\n",
    "l1=[]\n",
    "l2=[]\n",
    "\n",
    "for i in range(1,n+1):\n",
    "    k=i**2\n",
    "    l1.append(k)\n",
    "    l2.append(i)\n",
    "\n",
    "square_sum=sum(l1)\n",
    "sum_square=(sum(l2))**2\n",
    "\n",
    "d=sum_square - square_sum\n",
    "print(d)"
   ]
  },
  {
   "cell_type": "code",
   "execution_count": null,
   "metadata": {},
   "outputs": [],
   "source": []
  }
 ],
 "metadata": {
  "kernelspec": {
   "display_name": "Python 3",
   "language": "python",
   "name": "python3"
  },
  "language_info": {
   "codemirror_mode": {
    "name": "ipython",
    "version": 3
   },
   "file_extension": ".py",
   "mimetype": "text/x-python",
   "name": "python",
   "nbconvert_exporter": "python",
   "pygments_lexer": "ipython3",
   "version": "3.8.5"
  }
 },
 "nbformat": 4,
 "nbformat_minor": 4
}
