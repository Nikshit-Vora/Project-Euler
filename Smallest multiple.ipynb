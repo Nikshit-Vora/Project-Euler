{
 "cells": [
  {
   "cell_type": "markdown",
   "metadata": {},
   "source": [
    "# 2520 is the smallest number that can be divided by each of the numbers from 1 to 10 without any remainder. What is the smallest positive number that is evenly divisible by all of the numbers from 1 to 20?"
   ]
  },
  {
   "cell_type": "code",
   "execution_count": 3,
   "metadata": {},
   "outputs": [
    {
     "name": "stdout",
     "output_type": "stream",
     "text": [
      "smallest multiple is : 2520\n"
     ]
    }
   ],
   "source": [
    "n=1\n",
    "lst=[]\n",
    "s=True\n",
    "while s:\n",
    "    for i in range(1,11):\n",
    "        if n%i==0:\n",
    "            lst.append(i)\n",
    "        else:\n",
    "            lst.clear()\n",
    "            n=n+1\n",
    "            break\n",
    "    else:\n",
    "        if lst[-1]==10:\n",
    "            s=False\n",
    "            break\n",
    "print(f'smallest multiple is : {n}')"
   ]
  },
  {
   "cell_type": "code",
   "execution_count": null,
   "metadata": {},
   "outputs": [],
   "source": []
  }
 ],
 "metadata": {
  "kernelspec": {
   "display_name": "Python 3",
   "language": "python",
   "name": "python3"
  },
  "language_info": {
   "codemirror_mode": {
    "name": "ipython",
    "version": 3
   },
   "file_extension": ".py",
   "mimetype": "text/x-python",
   "name": "python",
   "nbconvert_exporter": "python",
   "pygments_lexer": "ipython3",
   "version": "3.8.5"
  }
 },
 "nbformat": 4,
 "nbformat_minor": 4
}
